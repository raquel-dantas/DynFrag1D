{
 "cells": [
  {
   "cell_type": "code",
   "execution_count": 1,
   "metadata": {},
   "outputs": [],
   "source": [
    "import akantu as aka\n",
    "import numpy as np\n",
    "from matplotlib import pyplot as plt\n"
   ]
  },
  {
   "cell_type": "code",
   "execution_count": 2,
   "metadata": {},
   "outputs": [],
   "source": [
    "# Lenght of the bar (m)\n",
    "L = 50*10**-3  \n",
    "# Number of linear elements (n_el)\n",
    "n_el = 5\n",
    "# Lenght of each linear element (h)\n",
    "h = L/n_el\n",
    "# Cross sectional area (m2)\n",
    "A = 1*10**-3 \n",
    "\n",
    "# Applied strain rate (s-1)\n",
    "# strain_rate = 10.0**2\n",
    "# strain_rate = 10.0**3\n",
    "strain_rate = 10.0**4\n",
    "# strain_rate = 10.0**5\n",
    "\n",
    "# Applied velocity\n",
    "vel = strain_rate*L/2 \n",
    "\n",
    "\n",
    "# Limit stress / critical stress (stress_c) (Pa)\n",
    "stress_c = 300.0*10**6 \n",
    "# Young's module (Pa)\n",
    "E = 275.0*10**9  "
   ]
  },
  {
   "cell_type": "code",
   "execution_count": 3,
   "metadata": {},
   "outputs": [],
   "source": [
    "# Read material file\n",
    "aka.parseInput('material.dat')\n",
    "\n",
    "# Read mesh\n",
    "spatial_dimension = 2\n",
    "mesh = aka.Mesh(spatial_dimension)\n",
    "mesh.read('../LOG/bar.msh')\n",
    "\n",
    "# Create model\n",
    "model = aka.SolidMechanicsModelCohesive(mesh)\n",
    "model.initFull(_analysis_method=aka._static, _is_extrinsic=True)\n",
    "\n",
    "\n",
    "# Configure static solver\n",
    "solver = model.getNonLinearSolver('static')\n",
    "solver.set('max_iterations', 100)\n",
    "solver.set('threshold', 1e-10)\n",
    "solver.set(\"convergence_type\", aka.SolveConvergenceCriteria.residual)\n",
    "\n",
    "# Solver (explicit Newmark with lumped mass)\n",
    "model.initNewSolver(aka._explicit_lumped_mass)\n",
    "# Dynamic insertion of cohesive elements\n",
    "model.updateAutomaticInsertion()"
   ]
  },
  {
   "cell_type": "code",
   "execution_count": 4,
   "metadata": {},
   "outputs": [
    {
     "name": "stdout",
     "output_type": "stream",
     "text": [
      "11\n"
     ]
    }
   ],
   "source": [
    "# Critical time step\n",
    "critical_time_step = model.getStableTimeStep()\n",
    "# Adopted time step\n",
    "dt = critical_time_step*0.1\n",
    "\n",
    "# Total time of simulation (s)\n",
    "time_simulation = 6.0*10**-7\n",
    "\n",
    "# Number of time steps (n_steps)\n",
    "n_steps = int(time_simulation/dt)\n",
    "print(n_steps)"
   ]
  },
  {
   "cell_type": "code",
   "execution_count": 5,
   "metadata": {},
   "outputs": [],
   "source": [
    "class FixedVelocity (aka.DirichletFunctor):\n",
    "    \"\"\"\n",
    "    Fixed velocity at the boundaries\n",
    "    \"\"\"\n",
    "\n",
    "    def __init__(self, axis, vel):\n",
    "        super().__init__(axis)\n",
    "        self.axis = axis\n",
    "        self.time = 0\n",
    "        self.vel = vel\n",
    "    \n",
    "    def set_time(self, t):\n",
    "        self.time = t\n",
    "    \n",
    "    def __call__(self, node, flags, disp, coord):\n",
    "        flags[int(self.axis)] = True\n",
    "        disp[int(self.axis)] = self.vel*self.time\n",
    "        "
   ]
  },
  {
   "cell_type": "code",
   "execution_count": 6,
   "metadata": {},
   "outputs": [],
   "source": [
    "# Apply BCs\n",
    "\n",
    "# Apply Dirichlet BC to block dispacements at y direction on top and botton of the elements\n",
    "model.applyBC(aka.FixedValue(0., aka._y), 'YBlocked')\n",
    "\n",
    "# Apply constant velocity at the boundaries\n",
    "functor_left = FixedVelocity(aka._x, -vel)\n",
    "functor_right = FixedVelocity(aka._x, vel)\n",
    "model.applyBC(functor_left, 'left')\n",
    "model.applyBC(functor_right, 'right')\n",
    "\n"
   ]
  },
  {
   "cell_type": "code",
   "execution_count": 7,
   "metadata": {},
   "outputs": [],
   "source": [
    "# Initial value \n",
    "\n",
    "n_nodes = mesh.getNbNodes()\n",
    "u0 = model.getDisplacement()\n",
    "v0 = model.getVelocity()\n",
    "\n",
    "# Initial velocity profile\n",
    "v0[:,0] = np.array([strain_rate * x for x,y in mesh.getNodes()])\n",
    "\n",
    "# Initial displacement (u0) \n",
    "if strain_rate < 5.0 * 10.0**3:\n",
    "    u0[:,0] = np.array([0.98*stress_c*x / E for x,y in mesh.getNodes()])\n"
   ]
  },
  {
   "cell_type": "code",
   "execution_count": 8,
   "metadata": {},
   "outputs": [
    {
     "name": "stdout",
     "output_type": "stream",
     "text": [
      "[   0.            0.           59.05264226  236.50862256  537.08411459\n",
      "  965.57069806 1522.52958412 2208.52297051 3024.11404157 3969.86696827\n",
      " 5046.34690817]\n",
      "[   0.            0.           59.08988721  221.81068763  507.67910984\n",
      "  936.26858713 1493.36781163 2179.5389339  2995.34509118 3941.35040735\n",
      " 5018.11999294]\n"
     ]
    }
   ],
   "source": [
    "# Main algorithm\n",
    "\n",
    "# Initiation of variables\n",
    "Epot = np.zeros(n_steps)\n",
    "Ekin = np.zeros(n_steps)\n",
    "Edis = np.zeros(n_steps)\n",
    "Erev = np.zeros(n_steps)\n",
    "Econ = np.zeros(n_steps)\n",
    "Wext = np.zeros(n_steps)\n",
    "work = 0.0\n",
    "fp_left = 0.0\n",
    "fp_right = 0.0\n",
    "avg_stress = np.zeros(n_steps)\n",
    "\n",
    "\n",
    "for n in range(n_steps):\n",
    "\n",
    "\n",
    "    # Apply velocity at the boundaries \n",
    "    functor_left.set_time(dt*n)\n",
    "    functor_right.set_time(dt*n)\n",
    "    model.applyBC(functor_left, 'left')\n",
    "    model.applyBC(functor_right, 'right')\n",
    "    \n",
    "\n",
    "\n",
    "    # Outputs\n",
    "    u = model.getDisplacement()[:,0]\n",
    "    v = model.getVelocity()[:,0]\n",
    "    a = model.getAcceleration()[:,0]\n",
    "    fint = model.getInternalForce()[:,0]\n",
    "    stress = model.getMaterial(0).getStress(aka._triangle_3)\n",
    "    stress_xx = stress[:,0]\n",
    "    avg_stress = np.mean(stress_xx)\n",
    "\n",
    "\n",
    "    # Energy balance\n",
    "    # External energy\n",
    "    # Reaction force at the boundaries \n",
    "    nodes_left = mesh.getElementGroup('left').getNodeGroup().getNodes()\n",
    "    nodes_right = mesh.getElementGroup('right').getNodeGroup().getNodes()\n",
    "    # Current time step (fn)\n",
    "    fn_left = -np.sum(fint[nodes_left])\n",
    "    fn_right = -np.sum(fint[nodes_right])\n",
    "    # The reaction force (fr) is taken as an average between fn (current time step) and fp (previous time step)\n",
    "    fr_left = (fn_left + fp_left)*0.5\n",
    "    fr_right = (fn_right + fp_right)*0.5\n",
    "    # Stress at the boundary\n",
    "    stress_bound_left = fr_left \n",
    "    stress_bound_right = fr_right \n",
    "    # External work (Wext)\n",
    "    Wext[n] = work + (stress_bound_left * -vel + stress_bound_right * vel)*dt \n",
    "    work = Wext[n]\n",
    "    fp_left = fn_left\n",
    "    fp_right = fn_right\n",
    "    \n",
    "    # Get other energies\n",
    "    Epot[n] = model.getEnergy('potential')\n",
    "    Ekin[n] = model.getEnergy('kinetic')\n",
    "    Edis[n] = model.getEnergy('dissipated')\n",
    "    Erev[n] = model.getEnergy('reversible')\n",
    "    Econ[n] = model.getEnergy('cohesive contact')\n",
    "\n",
    "\n",
    "    # Run simulation\n",
    "    model.checkCohesiveStress()\n",
    "    model.solveStep('explicit_lumped')\n",
    "\n",
    "\n",
    "\n",
    "\n",
    "\n",
    "    # Fragmentation\n",
    "    \n",
    "print(Epot)\n",
    "print(Wext)"
   ]
  },
  {
   "cell_type": "code",
   "execution_count": 9,
   "metadata": {},
   "outputs": [],
   "source": [
    "def VarEnergy(Epot, Ekin, Edis, Erev, Econ, Wext):\n",
    "    \"\"\"Returns the variation of energies between the current time step and the time step 0.\"\"\"\n",
    "\n",
    "    varEkin = np.zeros((n_steps))\n",
    "    varEpot = np.zeros((n_steps))\n",
    "    varEdis = np.zeros((n_steps))\n",
    "    varWext = np.zeros((n_steps))\n",
    "    varErev = np.zeros((n_steps))\n",
    "    varEcon = np.zeros((n_steps))\n",
    "    varEtot = np.zeros((n_steps))\n",
    "    for n in range(1,n_steps):\n",
    "        varEpot[n] = Epot[n] - Epot[0]\n",
    "        varEkin[n] = Ekin[n] - Ekin[0]\n",
    "        varEdis[n] = Edis[n] - Edis[0]\n",
    "        varErev[n] = Erev[n] - Erev[0]\n",
    "        varEcon[n] = Econ[n] - Econ[0]\n",
    "        varWext[n] = Wext[n] - Wext[0]\n",
    "        varEtot[n] = varWext[n] - (varEpot[n] + varEkin[n] + varEdis[n]  + varErev[n] + varEcon[n])\n",
    "\n",
    "    return varEkin, varEpot, varEdis, varErev, varEcon, varWext, varEtot\n",
    "\n",
    "\n",
    "def Power(Epot, Ekin, Edis, Erev, Econ, Wext):\n",
    "    \"\"\"Returns the variation of energies between two consecutives time steps.\"\"\"\n",
    "\n",
    "    PEkin = np.zeros((n_steps))\n",
    "    PEpot = np.zeros((n_steps))\n",
    "    PEdis = np.zeros((n_steps))\n",
    "    PWext = np.zeros((n_steps))\n",
    "    PErev = np.zeros((n_steps))\n",
    "    PEcon = np.zeros((n_steps))\n",
    "    PEtot = np.zeros((n_steps))\n",
    "    for n in range(1,n_steps):\n",
    "        PEpot[n] = Epot[n] - Epot[n-1]\n",
    "        PEkin[n] = Ekin[n] - Ekin[n-1]\n",
    "        PEdis[n] = Edis[n] - Edis[n-1]\n",
    "        PErev[n] = Erev[n] - Erev[n-1]\n",
    "        PEcon[n] = Econ[n] - Econ[n-1]\n",
    "        PWext[n] = Wext[n] - Wext[n-1]\n",
    "        PEtot[n] = PWext[n] - (PEpot[n] + PEkin[n] + PEdis[n]  + PErev[n] + PEcon[n])\n",
    "\n",
    "    return PEkin, PEpot, PEdis, PErev, PEcon, PWext, PEtot"
   ]
  },
  {
   "cell_type": "code",
   "execution_count": 10,
   "metadata": {},
   "outputs": [],
   "source": [
    "\n",
    "# Variation of energy [Energy, time] returns the difference of energy value between time t and t0 \n",
    "varEkin, varEpot, varEdis, varErev, varEcon, varWext, varEtot = VarEnergy(Epot, Ekin, Edis, Erev, Econ, Wext)\n",
    "\n",
    "# Power [Energy, time] returns the energy difference between consecutive time steps\n",
    "PEkin, PEpot, PEdis, PErev, PEcon, PWext, PEtot = Power(Epot, Ekin, Edis, Erev, Econ, Wext)"
   ]
  },
  {
   "cell_type": "code",
   "execution_count": 11,
   "metadata": {},
   "outputs": [],
   "source": [
    "def Plot(x, y, labelx, labely, title):\n",
    "    fig, axes = plt.subplots()\n",
    "    axes.grid(True, which='both')\n",
    "    axes.axhline(y=0, color='k')\n",
    "    plt.title(str(title))\n",
    "    plt.xlabel(str(labelx))\n",
    "    plt.ylabel(str(labely))\n",
    "    plt.plot(x, y)\n",
    "    plt.show()\n",
    "\n",
    "def PlotEnergy(Epot, Ekin, Edis, Erev, Econ, Wext):\n",
    "    \"\"\"Plot energies values per time\"\"\"\n",
    "\n",
    "    fig, axes = plt.subplots()\n",
    "    axes.grid(True, which='both')\n",
    "    axes.axhline(y=0, color='k')\n",
    "    plt.title(\"Energies\")\n",
    "    plt.xlabel(\"Time (s)\")\n",
    "    plt.ylabel(\"Energy  (N/m)\")\n",
    "        \n",
    "    x = np.linspace(0, time_simulation, n_steps)\n",
    "    plt.plot(x, Epot, label='Epot')\n",
    "    plt.plot(x, Ekin, label='Ekin')\n",
    "    plt.plot(x, Edis, label='Edis')\n",
    "    plt.plot(x, Erev, label='Erev')\n",
    "    plt.plot(x, Econ, label='Econ')\n",
    "    plt.plot(x, Wext, label='Wext')\n",
    "    plt.legend()\n",
    "    plt.show()\n",
    "\n",
    "def PlotVarEnergy(varEpot, varEkin, varEdis, varErev, varEcon, varWext, varEtot):\n",
    "    \"\"\"Plot variation of energy from time t to t0.\"\"\"\n",
    "\n",
    "    fig, axes = plt.subplots()\n",
    "    axes.grid(True, which='both')\n",
    "    axes.axhline(y=0, color='k')\n",
    "    plt.title(str(\"Variation of energy\"))\n",
    "    plt.xlabel(str(\"Time (s)\"))\n",
    "    plt.ylabel(str(\"Variation of energy\"))\n",
    "\n",
    "    x = np.linspace(0, time_simulation, n_steps)\n",
    "    plt.plot(x, varEpot, label='varEpot')\n",
    "    plt.plot(x, varEkin, label='varEkin')\n",
    "    plt.plot(x, varEdis, label='varEdis')\n",
    "    plt.plot(x, varErev, label='varErev')\n",
    "    plt.plot(x, varEcon, label='varEcon')\n",
    "    plt.plot(x, -varWext, label='-varWext')\n",
    "    plt.plot(x, varEtot, label='varEtot')\n",
    "    plt.legend()\n",
    "    plt.show()\n",
    "\n",
    "\n",
    "def PlotPower(PEpot, PEkin, PEdis, PErev, PEcon, PWext, PEtot):\n",
    "    \"\"\"Plot variation of energy between time steps\"\"\"\n",
    "\n",
    "    fig, axes = plt.subplots()\n",
    "    axes.grid(True, which='both')\n",
    "    axes.axhline(y=0, color='k')\n",
    "    plt.title(str(\"Power\"))\n",
    "    plt.xlabel(str(\"Time (s)\"))\n",
    "    plt.ylabel(str(\"Power\"))\n",
    "\n",
    "    x = np.linspace(0, time_simulation, n_steps)\n",
    "    plt.plot(x, PEpot, label='varEpot')\n",
    "    plt.plot(x, PEkin, label='varEkin')\n",
    "    plt.plot(x, PEdis, label='varEdis')\n",
    "    plt.plot(x, PErev, label='varErev')\n",
    "    plt.plot(x, PEcon, label='varEcon')\n",
    "    plt.plot(x, -PWext, label='-varWext')\n",
    "    plt.plot(x, PEtot, label='varEtot')\n",
    "    plt.legend()\n",
    "    plt.show()"
   ]
  },
  {
   "cell_type": "code",
   "execution_count": 12,
   "metadata": {},
   "outputs": [
    {
     "data": {
      "image/png": "[encoded data removed]",
      "text/plain": [
       "<Figure size 432x288 with 1 Axes>"
      ]
     },
     "metadata": {
      "needs_background": "light"
     },
     "output_type": "display_data"
    },
    {
     "data": {
      "image/png": "[encoded data removed]",
      "text/plain": [
       "<Figure size 432x288 with 1 Axes>"
      ]
     },
     "metadata": {
      "needs_background": "light"
     },
     "output_type": "display_data"
    }
   ],
   "source": [
    "# PlotEnergy(Epot, Ekin, Edis, Erev, Econ, Wext)\n",
    "PlotVarEnergy(varEpot, varEkin, varEdis, varErev, varEcon, varWext, varEtot)\n",
    "PlotPower(PEpot, PEkin, PEdis, PErev, PEcon, PWext, PEtot)"
   ]
  },
  {
   "cell_type": "code",
   "execution_count": null,
   "metadata": {},
   "outputs": [],
   "source": []
  }
 ],
 "metadata": {
  "interpreter": {
   "hash": "94fccfbe15ad791706cbef5c154fefa88d9f08fc88d23f408a1a166fc2931132"
  },
  "kernelspec": {
   "display_name": "Python 3.9.7 ('.venv': venv)",
   "language": "python",
   "name": "python3"
  },
  "language_info": {
   "codemirror_mode": {
    "name": "ipython",
    "version": 3
   },
   "file_extension": ".py",
   "mimetype": "text/x-python",
   "name": "python",
   "nbconvert_exporter": "python",
   "pygments_lexer": "ipython3",
   "version": "3.9.10"
  },
  "orig_nbformat": 4
 },
 "nbformat": 4,
 "nbformat_minor": 2
}
