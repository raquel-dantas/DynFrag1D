{
 "cells": [
  {
   "cell_type": "code",
   "execution_count": 48,
   "metadata": {},
   "outputs": [],
   "source": [
    "import akantu as aka\n",
    "import numpy as np\n",
    "from matplotlib import pyplot as plt\n"
   ]
  },
  {
   "cell_type": "code",
   "execution_count": 49,
   "metadata": {},
   "outputs": [],
   "source": [
    "# Lenght of the bar (m)\n",
    "L = 50*10**-3  \n",
    "# Number of linear elements (n_el)\n",
    "n_el = 2\n",
    "# Lenght of each linear element (h)\n",
    "h = L/n_el\n",
    "# Cross sectional area (m2)\n",
    "A = 1*10**-3 \n",
    "\n",
    "# Applied strain rate (s-1)\n",
    "# strain_rate = 10.0**2\n",
    "# strain_rate = 10.0**3\n",
    "strain_rate = 10.0**4\n",
    "# strain_rate = 10.0**5\n",
    "\n",
    "# Applied velocity\n",
    "vel = strain_rate*L/2 \n",
    "\n",
    "xf = L/2\n",
    "\n",
    "# Limit stress / critical stress (stress_c) (Pa)\n",
    "stress_c = 300.0*10**6 \n",
    "# Young's module (Pa)\n",
    "E = 275.0*10**9  "
   ]
  },
  {
   "cell_type": "code",
   "execution_count": 80,
   "metadata": {},
   "outputs": [
    {
     "name": "stdout",
     "output_type": "stream",
     "text": [
      "[-0.025, 0.025, 0.025]\n",
      "[1, 2]\n"
     ]
    },
    {
     "ename": "TypeError",
     "evalue": "Unable to convert function return value to a Python type! The signature was\n\t(self: akantu.py11_akantu.NodeGroup, node: int, check_for_duplicate: bool = True) -> akantu::Array<unsigned int, true>::const_iterator<unsigned int>",
     "output_type": "error",
     "traceback": [
      "\u001b[0;31m---------------------------------------------------------------------------\u001b[0m",
      "\u001b[0;31mTypeError\u001b[0m                                 Traceback (most recent call last)",
      "\u001b[1;32m/home/raquel/projects/dynamicfragmentation1D/akantu/notebook.ipynb Cell 3'\u001b[0m in \u001b[0;36m<cell line: 23>\u001b[0;34m()\u001b[0m\n\u001b[1;32m     <a href='vscode-notebook-cell:/home/raquel/projects/dynamicfragmentation1D/akantu/notebook.ipynb#ch0000002?line=20'>21</a>\u001b[0m group \u001b[39m=\u001b[39m mesh\u001b[39m.\u001b[39mcreateNodeGroup(\u001b[39m\"\u001b[39m\u001b[39mXpositiveNode\u001b[39m\u001b[39m\"\u001b[39m,\u001b[39mFalse\u001b[39;00m)\n\u001b[1;32m     <a href='vscode-notebook-cell:/home/raquel/projects/dynamicfragmentation1D/akantu/notebook.ipynb#ch0000002?line=21'>22</a>\u001b[0m \u001b[39m# group.add()\u001b[39;00m\n\u001b[0;32m---> <a href='vscode-notebook-cell:/home/raquel/projects/dynamicfragmentation1D/akantu/notebook.ipynb#ch0000002?line=22'>23</a>\u001b[0m group\u001b[39m.\u001b[39;49madd(\u001b[39m1\u001b[39;49m)\n",
      "\u001b[0;31mTypeError\u001b[0m: Unable to convert function return value to a Python type! The signature was\n\t(self: akantu.py11_akantu.NodeGroup, node: int, check_for_duplicate: bool = True) -> akantu::Array<unsigned int, true>::const_iterator<unsigned int>"
     ]
    }
   ],
   "source": [
    "# Read material file\n",
    "aka.parseInput('../LOG/material.dat')\n",
    "\n",
    "# Read mesh\n",
    "spatial_dimension = 2\n",
    "mesh = aka.Mesh(spatial_dimension)\n",
    "mesh.read('../LOG/bar.msh')\n",
    "\n",
    "conn = mesh.getConnectivity(aka._triangle_3)\n",
    "last_triangle = conn[n_el-1]\n",
    "first_triangle = conn[0]\n",
    "coords = mesh.getNodes()\n",
    "coordx_last_triangle = np.zeros(3)\n",
    "coordx_last_triangle = [coords[node,0] for node in last_triangle]\n",
    "print(coordx_last_triangle)\n",
    "\n",
    "node_bc_last = [last_triangle[local_node] for local_node, x in enumerate(coordx_last_triangle) if abs(x-xf)<0.0001]\n",
    "print(node_bc_last)\n",
    "\n",
    "# group = mesh.createNodeGroup('group')\n",
    "group = mesh.createNodeGroup(\"XpositiveNode\",False)\n",
    "# group.add()\n",
    "group.add(1)\n",
    "\n",
    "\n"
   ]
  }
 ],
 "metadata": {
  "interpreter": {
   "hash": "94fccfbe15ad791706cbef5c154fefa88d9f08fc88d23f408a1a166fc2931132"
  },
  "kernelspec": {
   "display_name": "Python 3.9.7 ('.venv': venv)",
   "language": "python",
   "name": "python3"
  },
  "language_info": {
   "codemirror_mode": {
    "name": "ipython",
    "version": 3
   },
   "file_extension": ".py",
   "mimetype": "text/x-python",
   "name": "python",
   "nbconvert_exporter": "python",
   "pygments_lexer": "ipython3",
   "version": "3.10.4"
  },
  "orig_nbformat": 4
 },
 "nbformat": 4,
 "nbformat_minor": 2
}
