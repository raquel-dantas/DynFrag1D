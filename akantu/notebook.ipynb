{
 "cells": [
  {
   "cell_type": "code",
   "execution_count": 6,
   "metadata": {},
   "outputs": [],
   "source": [
    "from operator import index\n",
    "from textwrap import indent\n",
    "import akantu as aka\n",
    "import numpy as np\n"
   ]
  },
  {
   "cell_type": "code",
   "execution_count": 14,
   "metadata": {},
   "outputs": [],
   "source": [
    "# Lenght of the bar (m)\n",
    "L = 50*10**-3  \n",
    "# Number of linear elements (n_el)\n",
    "n_el = 5\n",
    "# Lenght of each linear element (h)\n",
    "h = L/n_el\n",
    "# Cross sectional area (m2)\n",
    "A = 1*10**-3 \n",
    "\n",
    "# Applied strain rate (s-1)\n",
    "# strain_rate = 10.0**2\n",
    "# strain_rate = 10.0**3\n",
    "strain_rate = 10.0**4\n",
    "# strain_rate = 10.0**5\n",
    "\n",
    "# Applied velocity\n",
    "vel = strain_rate*L/2 \n",
    "\n",
    "\n",
    "# Limit stress / critical stress (stress_c) (Pa)\n",
    "stress_c = 300.0*10**6 \n",
    "# Young's module (Pa)\n",
    "E = 275.0*10**9  "
   ]
  },
  {
   "cell_type": "code",
   "execution_count": 15,
   "metadata": {},
   "outputs": [],
   "source": [
    "# Read material file\n",
    "aka.parseInput('material.dat')\n",
    "\n",
    "# Read mesh\n",
    "spatial_dimension = 2\n",
    "mesh = aka.Mesh(spatial_dimension)\n",
    "mesh.read('../LOG/bar.msh')\n",
    "\n",
    "# Create model\n",
    "model = aka.SolidMechanicsModelCohesive(mesh)\n",
    "model.initFull(_analysis_method=aka._static, _is_extrinsic=True)\n",
    "\n",
    "\n",
    "# Configure static solver\n",
    "solver = model.getNonLinearSolver('static')\n",
    "solver.set('max_iterations', 100)\n",
    "solver.set('threshold', 1e-10)\n",
    "solver.set(\"convergence_type\", aka.SolveConvergenceCriteria.residual)\n",
    "\n",
    "# Solver (explicit Newmark with lumped mass)\n",
    "model.initNewSolver(aka._explicit_lumped_mass)\n",
    "# Dynamic insertion of cohesive elements\n",
    "model.updateAutomaticInsertion()"
   ]
  },
  {
   "cell_type": "code",
   "execution_count": 16,
   "metadata": {},
   "outputs": [
    {
     "name": "stdout",
     "output_type": "stream",
     "text": [
      "11\n"
     ]
    }
   ],
   "source": [
    "# Critical time step\n",
    "critical_time_step = model.getStableTimeStep()\n",
    "# Adopted time step\n",
    "dt = critical_time_step*0.1\n",
    "\n",
    "# Total time of simulation (s)\n",
    "time_simulation = 6.0*10**-7\n",
    "\n",
    "# Number of time steps (n_steps)\n",
    "n_steps = int(time_simulation/dt)\n",
    "print(n_steps)"
   ]
  },
  {
   "cell_type": "code",
   "execution_count": 11,
   "metadata": {},
   "outputs": [],
   "source": [
    "class FixedVelocity (aka.DirichletFunctor):\n",
    "    \"\"\"\n",
    "    Fixed velocity at the boundaries\n",
    "    \"\"\"\n",
    "\n",
    "    def __init__(self, axis, vel):\n",
    "        super().__init__(axis)\n",
    "        self.axis = axis\n",
    "        self.time = 0\n",
    "        self.vel = vel\n",
    "    \n",
    "    def set_time(self, t):\n",
    "        self.time = t\n",
    "    \n",
    "    def __call__(self, node, flags, disp, coord):\n",
    "        flags[int(self.axis)] = True\n",
    "        disp[int(self.axis)] = self.vel*self.time\n",
    "        "
   ]
  },
  {
   "cell_type": "code",
   "execution_count": 12,
   "metadata": {},
   "outputs": [],
   "source": [
    "# Apply BCs\n",
    "\n",
    "# Apply Dirichlet BC to block dispacements at y direction on top and botton of the elements\n",
    "model.applyBC(aka.FixedValue(0., aka._y), 'YBlocked')\n",
    "\n",
    "# Apply constant velocity at the boundaries\n",
    "functor_left = FixedVelocity(aka._x, -vel)\n",
    "functor_right = FixedVelocity(aka._x, vel)\n",
    "model.applyBC(functor_left, 'left')\n",
    "model.applyBC(functor_right, 'right')\n",
    "\n"
   ]
  },
  {
   "cell_type": "code",
   "execution_count": 13,
   "metadata": {},
   "outputs": [],
   "source": [
    "# Initial value \n",
    "\n",
    "n_nodes = mesh.getNbNodes()\n",
    "u0 = model.getDisplacement()\n",
    "v0 = model.getVelocity()\n",
    "\n",
    "# Initial velocity profile\n",
    "v0[:,0] = np.array([strain_rate * x for x,y in mesh.getNodes()])\n",
    "\n",
    "# Initial displacement (u0) \n",
    "if strain_rate < 5.0 * 10.0**3:\n",
    "    u0[:,0] = np.array([0.98*stress_c*x / E for x,y in mesh.getNodes()])\n"
   ]
  },
  {
   "cell_type": "code",
   "execution_count": null,
   "metadata": {},
   "outputs": [],
   "source": [
    "# Main algorithm\n",
    "\n",
    "# Initiation of variables\n",
    "Epot = np.zeros(n_steps)\n",
    "Ekin = np.zeros(n_steps)\n",
    "Edis = np.zeros(n_steps)\n",
    "Erev = np.zeros(n_steps)\n",
    "Econ = np.zeros(n_steps)\n",
    "Wext = np.zeros(n_steps)\n",
    "work = 0.0\n",
    "fp_left = 0.0\n",
    "fp_right = 0.0\n",
    "avg_stress = np.zeros(n_steps)\n",
    "\n",
    "for n in range(n_steps):\n",
    "\n",
    "    # Apply velocity at the boundaries \n",
    "    functor_left.set_time(dt*n)\n",
    "    functor_right.set_time(dt*n)\n",
    "    model.applyBC(functor_left, 'left')\n",
    "    model.applyBC(functor_right, 'right')\n",
    "\n",
    "    # Run simulation\n",
    "    model.checkCohesiveStress()\n",
    "    model.solveStep('explicit_lumped')\n",
    "\n",
    "    # Outputs\n",
    "    u = model.getDisplacement()[:,0]\n",
    "    v = model.getVelocity()[:,0]\n",
    "    a = model.getAcceleration()[:,0]\n",
    "    fint = model.getInternalForce()[:,0]\n",
    "    stress = model.getMaterial(0).getStress(aka._triangle_3)\n",
    "    stress_xx = stress[:,0]\n",
    "    avg_stress = np.mean(stress_xx)\n",
    "\n",
    "\n",
    "    # Energy balance\n",
    "\n",
    "    # External energy\n",
    "    # Reaction force at the boundaries \n",
    "    nodes_left = mesh.getElementGroup('left').getNodeGroup().getNodes()\n",
    "    nodes_right = mesh.getElementGroup('right').getNodeGroup().getNodes()\n",
    "    # Current time step (fn)\n",
    "    fn_left = np.sum(fint[nodes_left])\n",
    "    fn_right = np.sum(fint[nodes_right])\n",
    "    # The reaction force (fr) is taken as an average between fn (current time step) and fp (previous time step)\n",
    "    fr_left = (fn_left+fp_left)*0.5\n",
    "    fr_right = (fn_right+fp_right)*0.5\n",
    "    # Stress at the boundary\n",
    "    stress_bound_left = fr_left / A\n",
    "    stress_bound_right = fr_right / A\n",
    "    # External work (Wext)\n",
    "    Wext = work + stress_bound_left*-vel + stress_bound_right * vel\n",
    "    work = Wext\n",
    "    fp_left = fn_left\n",
    "    fp_right = fn_right\n",
    "    \n",
    "    # Get other energies\n",
    "    Epot[n] = model.getEnergy('potential')\n",
    "    Ekin[n] = model.getEnergy('kinetic')\n",
    "    Edis[n] = model.getEnergy('dissipated')\n",
    "    Erev[n] = model.getEnergy('reversible')\n",
    "    Econ[n] = model.getEnergy('cohesive contact')\n",
    "\n",
    "    # Fragmentation\n",
    "    \n"
   ]
  }
 ],
 "metadata": {
  "interpreter": {
   "hash": "94fccfbe15ad791706cbef5c154fefa88d9f08fc88d23f408a1a166fc2931132"
  },
  "kernelspec": {
   "display_name": "Python 3.9.7 ('.venv': venv)",
   "language": "python",
   "name": "python3"
  },
  "language_info": {
   "codemirror_mode": {
    "name": "ipython",
    "version": 3
   },
   "file_extension": ".py",
   "mimetype": "text/x-python",
   "name": "python",
   "nbconvert_exporter": "python",
   "pygments_lexer": "ipython3",
   "version": "3.9.7"
  },
  "orig_nbformat": 4
 },
 "nbformat": 4,
 "nbformat_minor": 2
}
