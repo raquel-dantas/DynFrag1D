{
 "cells": [
  {
   "cell_type": "code",
   "execution_count": 1,
   "metadata": {},
   "outputs": [],
   "source": [
    "from operator import index\n",
    "from textwrap import indent\n",
    "import akantu as aka\n",
    "import numpy as np\n"
   ]
  },
  {
   "cell_type": "code",
   "execution_count": 5,
   "metadata": {},
   "outputs": [],
   "source": [
    "# Read material file\n",
    "aka.parseInput('material.dat')\n",
    "\n",
    "# Read mesh\n",
    "spatial_dimension = 2\n",
    "mesh = aka.Mesh(spatial_dimension)\n",
    "mesh.read('../LOG/bar.msh')\n",
    "\n",
    "# Create model\n",
    "model = aka.SolidMechanicsModel(mesh)\n",
    "\n",
    "# Initial values\n",
    "model.initFull(_analysis_method=aka._explicit_lumped_mass)\n",
    "\n",
    "\n",
    "# Applied strain rate (s-1)\n",
    "# strain_rate = 10.0**2\n",
    "# strain_rate = 10.0**3\n",
    "strain_rate = 10.0**4\n",
    "# strain_rate = 10.0**5\n",
    "\n",
    "\n",
    "# Configure solver\n",
    "\n",
    "critical_time_step = model.getStableTimeStep()\n",
    "\n",
    "n_nodes = mesh.getNbNodes()\n",
    "\n",
    "u0 = model.getDisplacement()\n",
    "v0 = model.getVelocity()\n",
    "\n",
    "# Initial values \n",
    "v0[:,0] = np.array([strain_rate * x for x,y in mesh.getNodes()])\n",
    "\n",
    "# Young's module (Pa)\n",
    "E = 275.0*10**9  \n",
    "stress_c = 300.0*10**6 \n",
    "# # Initial displacement (u0)\n",
    "if strain_rate < 5.0 * 10.0**3:\n",
    "    u0[:,0] = np.array([0.98*stress_c*x / E for x,y in mesh.getNodes()])\n"
   ]
  },
  {
   "cell_type": "code",
   "execution_count": null,
   "metadata": {},
   "outputs": [],
   "source": []
  }
 ],
 "metadata": {
  "interpreter": {
   "hash": "94fccfbe15ad791706cbef5c154fefa88d9f08fc88d23f408a1a166fc2931132"
  },
  "kernelspec": {
   "display_name": "Python 3.9.7 ('.venv': venv)",
   "language": "python",
   "name": "python3"
  },
  "language_info": {
   "codemirror_mode": {
    "name": "ipython",
    "version": 3
   },
   "file_extension": ".py",
   "mimetype": "text/x-python",
   "name": "python",
   "nbconvert_exporter": "python",
   "pygments_lexer": "ipython3",
   "version": "3.9.7"
  },
  "orig_nbformat": 4
 },
 "nbformat": 4,
 "nbformat_minor": 2
}
