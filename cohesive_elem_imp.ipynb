{
 "cells": [
  {
   "cell_type": "code",
   "execution_count": 779,
   "metadata": {},
   "outputs": [],
   "source": [
    "import numpy as np\n",
    "from matplotlib import pyplot as plt\n",
    "import itertools\n",
    "import copy "
   ]
  },
  {
   "cell_type": "code",
   "execution_count": 780,
   "metadata": {},
   "outputs": [],
   "source": [
    "# Boundary conditions\n",
    "def Apply_bc(K, F, elem_index):\n",
    "    phi = 1.0\n",
    "    bignumber = 10.0**30\n",
    "    dof = connect[elem_index][0]\n",
    "    value, bc_type = bc_dict[materials[elem_index]]\n",
    "    if bc_type == \"dirichlet\":\n",
    "        K[dof, dof] += bignumber*phi*phi\n",
    "        F[dof] += bignumber*float(value)*phi\n"
   ]
  },
  {
   "cell_type": "code",
   "execution_count": 781,
   "metadata": {},
   "outputs": [],
   "source": [
    "# Global index of local DOF:\n",
    "def Gl_index(elem_index, local_dof):\n",
    "    return connect[elem_index][local_dof]\n"
   ]
  },
  {
   "cell_type": "code",
   "execution_count": 782,
   "metadata": {},
   "outputs": [],
   "source": [
    "def Contribute_el(K, M, F, i_el):\n",
    "    \"\"\"Computes the contribution of elment in the global stiffness and mass matrices, and load vector.\n",
    "\n",
    "    Keyword arguments:\\n\n",
    "    K -- Global stiffness matrix which will be alterated to take account the contribution; \\n\n",
    "    M -- Global stiffness matrix;\\n \n",
    "    F -- Global load vector;\\n\n",
    "    i_el -- index for the element   \n",
    "    \"\"\"\n",
    "    # Element stiffness matrix and element load vector\n",
    "    h = L/n_el\n",
    "    k_elem = E*A/h * np.array([[1.0, -1.0], [-1.0, 1.0]])\n",
    "    m_elem = rho*A*h/2 * np.array([[1.0, 0.0], [0.0, 1.0]])\n",
    "    f_elem = np.array([0.0, 0.0])\n",
    "    # Contribution to K, M and F\n",
    "    for i_loc in range(2):\n",
    "        i_gl = Gl_index(i_el, i_loc)\n",
    "        F[i_gl] += f_elem[i_loc]\n",
    "        for j_loc in range(2):\n",
    "            j_gl = Gl_index(i_el, j_loc)\n",
    "            K[i_gl, j_gl] += k_elem[i_loc, j_loc]\n",
    "            M[i_gl, j_gl] += m_elem[i_loc, j_loc]\n"
   ]
  },
  {
   "cell_type": "code",
   "execution_count": 783,
   "metadata": {},
   "outputs": [],
   "source": [
    "# Global stiffness matrix and mass matrix\n",
    "def GlobalSystem():\n",
    "\n",
    "    K = np.zeros((n_dofs, n_dofs))\n",
    "    F = np.zeros((n_dofs))\n",
    "    M = np.zeros((n_dofs, n_dofs))\n",
    "    # Assembly of elements\n",
    "    n_el = len(connect)\n",
    "    for i_el in range(n_el):\n",
    "        mat_id = materials[i_el]\n",
    "        if mat_id == 0:\n",
    "            Contribute_el(K, M, F, i_el)\n",
    "        elif mat_id == 2:\n",
    "            Apply_bc(K, F, i_el)\n",
    "\n",
    "    return K, M, F\n"
   ]
  },
  {
   "cell_type": "code",
   "execution_count": 784,
   "metadata": {},
   "outputs": [],
   "source": [
    "# Newmark's method explicit\n",
    "def Newmark_exp(K, M, C, u, v, acel, p_next, dt, gamma):\n",
    "\n",
    "    # Degrees of freedom\n",
    "    dofs = K.shape[0]\n",
    "\n",
    "    up = np.zeros((dofs))\n",
    "    vp = np.zeros((dofs))\n",
    "    u_next = np.zeros((dofs))\n",
    "    acel_next = np.zeros((dofs))\n",
    "    v_next = np.zeros((dofs))\n",
    "\n",
    "    u_next = u + dt*v + ((1.0/2.0)*dt**2)*acel\n",
    "    # Predictor vector vp\n",
    "    vp = v + (1 - gamma)*dt*acel\n",
    "\n",
    "    # Solution of the linear problem:\n",
    "    term1 = M + gamma*dt/2*C \n",
    "    Minv = np.linalg.inv(term1)\n",
    "    f_int = Force_int(u_next)\n",
    "    term2 = p_next - f_int - np.matmul(C, vp)\n",
    "    acel_next = np.matmul(Minv, term2)\n",
    "    \n",
    "\n",
    "    for i_el in range(len(connect)):\n",
    "        if materials[i_el] == 2:\n",
    "            value, bc_type = bc_dict[materials[i_el]]\n",
    "            if bc_type == \"dirichlet\":\n",
    "                i_dof = Gl_index(i_el,0)\n",
    "                u_next[i_dof] = value\n",
    "                acel_next[i_dof] = 0.0\n",
    "                v_next[i_dof] = 0.0\n",
    "                \n",
    "    # Correctors\n",
    "    v_next = vp + gamma*dt*acel_next\n",
    "\n",
    "    return u_next, v_next, acel_next\n"
   ]
  },
  {
   "cell_type": "code",
   "execution_count": 785,
   "metadata": {},
   "outputs": [],
   "source": [
    "# Plot functions\n",
    "\n",
    "# Plot data in nodes\n",
    "def plot(x, y, labelx, labely, title):\n",
    "    fig, axes = plt.subplots()\n",
    "    axes.grid(True, which='both')\n",
    "    axes.axhline(y=0, color='k')\n",
    "    plt.title(str(title))\n",
    "    plt.xlabel(str(labelx))\n",
    "    plt.ylabel(str(labely))\n",
    "    plt.plot(x, y)\n",
    "    plt.show()\n",
    "\n",
    "# Plot data in element\n",
    "\n",
    "\n",
    "def plot_interior(x0, xf, n_elem, func, labelx, labely, title):\n",
    "    h = float(xf-x0)/n_elem\n",
    "    x = np.array([[x0+h*el, x0+h*(el+1)] for el in range(n_elem)])\n",
    "    x = x.flatten()\n",
    "    y = np.array([[func[el], func[el]] for el in range(n_elem)])\n",
    "    y = y.flatten()\n",
    "    plot(x, y, labelx, labely, title)\n",
    "\n",
    "# Plot data in time\n",
    "\n",
    "\n",
    "def plot_time(n_steps, func, labelx, labely, title):\n",
    "    x = np.linspace(0, n_steps, n_steps)\n",
    "    y = func\n",
    "    plot(x, y, labelx, labely, title)\n",
    "\n",
    "# Plot energy\n",
    "\n",
    "\n",
    "def plot_energy(n_steps, E_kin, E_pot, labelx, labely, title):\n",
    "    fig, axes = plt.subplots()\n",
    "    axes.grid(True, which='both')\n",
    "    axes.axhline(y=0, color='k')\n",
    "    plt.title(str(title))\n",
    "    plt.xlabel(str(labelx))\n",
    "    plt.ylabel(str(labely))\n",
    "    x = np.linspace(0, n_steps, n_steps)\n",
    "    plt.plot(x, E_kin, label='E_kin')\n",
    "    plt.plot(x, E_pot, label='E_pot')\n",
    "    plt.legend()\n",
    "    plt.show()\n",
    "\n",
    "\n",
    "def plot_energytotal(n_steps, E_kin, E_pot, E_tot, labelx, labely, title):\n",
    "    fig, axes = plt.subplots()\n",
    "    axes.grid(True, which='both')\n",
    "    axes.axhline(y=0, color='k')\n",
    "    plt.title(str(title))\n",
    "    plt.xlabel(str(labelx))\n",
    "    plt.ylabel(str(labely))\n",
    "    x = np.linspace(0, n_steps, n_steps)\n",
    "    plt.plot(x, E_kin, label='E_kin')\n",
    "    plt.plot(x, E_pot, label='E_pot')\n",
    "    plt.plot(x, E_tot, label='E_tot')\n",
    "    plt.legend()\n",
    "    plt.show()\n"
   ]
  },
  {
   "cell_type": "code",
   "execution_count": 786,
   "metadata": {},
   "outputs": [],
   "source": [
    "# Energy balance\n",
    "def energy(K, M, u, v):\n",
    "    # Kinetic energy\n",
    "    E_kin = 1.0/2.0*np.dot(np.matmul(M, v), v)\n",
    "    # Potential energy\n",
    "    E_pot = 1.0/2.0*np.dot(np.matmul(K, u), u)\n",
    "    # Total\n",
    "    E_tot = E_kin + E_pot\n",
    "    return E_kin, E_pot, E_tot\n"
   ]
  },
  {
   "cell_type": "code",
   "execution_count": 787,
   "metadata": {},
   "outputs": [],
   "source": [
    "def cohesive_law(jump_u):\n",
    "    stress = stress_c * (1.0 - jump_u/delta_c)\n",
    "    if stress < 0.0:\n",
    "        stress = 0.0\n",
    "    return stress\n"
   ]
  },
  {
   "cell_type": "code",
   "execution_count": 788,
   "metadata": {},
   "outputs": [
    {
     "name": "stdout",
     "output_type": "stream",
     "text": [
      "[0, 0, 0, 0, 0, 2]\n"
     ]
    }
   ],
   "source": [
    "# Mesh\n",
    "L = 0.2  # (m)\n",
    "n_el = 5\n",
    "h = L/n_el\n",
    "\n",
    "# Material id convention: 0(line elemnt)/1(interface element)/2(BC left node)/3(BC right node)\n",
    "materials = [0] * n_el\n",
    "materials.append(2)\n",
    "print(materials)\n",
    "# node_id[elem_index][local_node], returns the global node id\n",
    "node_id = []\n",
    "for i in range(n_el):\n",
    "    node_id.append([i, i+1])\n",
    "# Node BC\n",
    "node_id.append([0])\n",
    "\n",
    "# Connect[el][j] returns the global index of local dof 'j' of the element 'el'\n",
    "connect = copy.deepcopy(node_id) \n",
    "\n",
    "# BC\n",
    "bc_dict = dict([(2, (0, \"dirichlet\"))])\n",
    "n_dofs = max(list(itertools.chain.from_iterable(connect))) + 1\n"
   ]
  },
  {
   "cell_type": "code",
   "execution_count": 789,
   "metadata": {},
   "outputs": [
    {
     "name": "stdout",
     "output_type": "stream",
     "text": [
      "[ 0.  4.  8. 12. 16. 20.]\n",
      "0.0006605782590758165\n"
     ]
    }
   ],
   "source": [
    "# Input parameters\n",
    "\n",
    "# Material parameters\n",
    "E = 275.0*10**3  # (Pa)\n",
    "\n",
    "A = 0.001  # (unit area)\n",
    "Gc = 100.0  # (N/m)\n",
    "stress_c = 100.0*10**1  # (Pa)\n",
    "rho = 75.0  # (kg/m3)\n",
    "delta_c = (2.0*Gc)/stress_c\n",
    "\n",
    "# Time steps\n",
    "n_steps = 5\n",
    "\n",
    "# Applied strain rate\n",
    "strain_rate = 10.0**2  # (s-1)\n",
    "\n",
    "# Initial displacement\n",
    "u0 = np.zeros((n_dofs))\n",
    "# Initial velocity (v0): velocity profile (vel) is a function v(x)\n",
    "vel = strain_rate*L\n",
    "n_points = n_dofs\n",
    "l = np.linspace(0, L, n_points)\n",
    "v0 = np.array([vel/L*x for x in l])\n",
    "v0 = np.round(v0, 8)\n",
    "print(v0)\n",
    "\n",
    "# Initial acceleration (acel0)\n",
    "acel0 = np.zeros((n_dofs))\n",
    "# Load (p)\n",
    "p = np.zeros((n_steps+1, n_dofs))\n",
    "\n",
    "# Time integration\n",
    "dt = 10**-4  # (s)\n",
    "gamma = 0.5\n",
    "beta = 0.0\n",
    "C = np.zeros((n_dofs, n_dofs))\n",
    "\n",
    "dt_crit = h/((E/rho)**0.5)\n",
    "print(dt_crit)\n"
   ]
  },
  {
   "cell_type": "code",
   "execution_count": 790,
   "metadata": {},
   "outputs": [],
   "source": [
    "def Insert_interface(el_left, el_right, u, v, acel):\n",
    "    dof_broken = connect[el_left][1]\n",
    "    # Update the connect list\n",
    "    n_dofs = u.shape[0]\n",
    "    connect[el_right][0] = n_dofs\n",
    "    dof_right = n_dofs\n",
    "    dof_left = connect[el_left][1]\n",
    "    connect.append([dof_left, dof_right])\n",
    "    # Update materials type\n",
    "    materials.append(1)\n",
    "    # Update node ID\n",
    "    node_id.append(node_id[el_left][1])\n",
    "    # Update u, v and acel arrays\n",
    "    u = np.append(u, u[dof_broken])\n",
    "    v = np.append(v, v[dof_broken])\n",
    "    acel = np.append(acel, acel[dof_broken])\n"
   ]
  },
  {
   "cell_type": "code",
   "execution_count": 791,
   "metadata": {},
   "outputs": [],
   "source": [
    "def Force_int(u):\n",
    "    \"\"\" Returns the internal force vector (ku + flambda)\n",
    "\n",
    "    Arguments:\\n\n",
    "    u -- displacemnt vector\n",
    "    \"\"\"\n",
    "    \n",
    "    # Element stiffness matrix\n",
    "    h = L/n_el\n",
    "    k_elem = E*A/h * np.array([[1.0, -1.0], [-1.0, 1.0]])\n",
    "    fint = np.zeros(n_dofs)\n",
    "    for el in range(n_el):\n",
    "        u_loc = np.array([u[Gl_index(el, 0)], u[Gl_index(el, 1)]])\n",
    "        fint_loc = np.matmul(k_elem, u_loc)\n",
    "\n",
    "        for i_loc in range(2):\n",
    "            i_gl = Gl_index(el, i_loc)\n",
    "            fint[i_gl] += fint_loc[i_loc]\n",
    "\n",
    "    fint += Force_interface(u)\n",
    "\n",
    "    return fint\n"
   ]
  },
  {
   "cell_type": "code",
   "execution_count": 792,
   "metadata": {},
   "outputs": [],
   "source": [
    "def Force_interface(u):\n",
    "    \"\"\" Returns the force of interfaces (flambda)\n",
    "\n",
    "    Arguments:\\n\n",
    "    u -- displacemnt vector\n",
    "    \"\"\"\n",
    "    n_dofs = u.shape[0]\n",
    "    flambda = np.zeros(n_dofs)\n",
    "    for el in range(els_step):\n",
    "        if materials[el] == 1:\n",
    "            jump_u = u[connect[el][1]] - u[connect[el][0]]\n",
    "            flambda[connect[el][0]] = cohesive_law(jump_u) * A\n",
    "            flambda[connect[el][1]] = -flambda[connect[el][0]]\n",
    "\n",
    "    return flambda\n"
   ]
  },
  {
   "cell_type": "code",
   "execution_count": 793,
   "metadata": {},
   "outputs": [],
   "source": [
    "def PostProcess(u):\n",
    "    \"\"\" Returns the strain, stress vectors of the linear elements, and the average stress vector between two consecutives line elements\n",
    "\n",
    "    Arguments:\\n\n",
    "    u -- displacemnt vector\n",
    "    \"\"\"\n",
    "\n",
    "    strain = np.zeros(n_el)\n",
    "    stress = np.zeros(n_el)\n",
    "\n",
    "    for el in range(n_el):\n",
    "        # Strain[u,L] returns the strain value at each element 'el' for the step 'n'\n",
    "        strain[el] = (u[connect[el][1]] - u[connect[el][0]]) / h\n",
    "        # Stress[strain] retuns the stress value at each element 'el' for the step 'n'\n",
    "        stress[el] = E * strain[el]\n",
    "\n",
    "    \n",
    "    average_stress = np.zeros(n_el-1)\n",
    "\n",
    "    average = lambda el: (stress[el] + stress[el+1])/2.0 if connect[el][1] == connect[el+1][0] else 0       \n",
    "       \n",
    "    average_stress = [average(el) for el in range(n_el-1)]\n",
    "\n",
    "    return strain, stress, average_stress\n"
   ]
  },
  {
   "cell_type": "code",
   "execution_count": 794,
   "metadata": {},
   "outputs": [
    {
     "data": {
      "image/png": "[encoded data removed]",
      "text/plain": [
       "<Figure size 432x288 with 1 Axes>"
      ]
     },
     "metadata": {
      "needs_background": "light"
     },
     "output_type": "display_data"
    },
    {
     "data": {
      "image/png": "[encoded data removed]",
      "text/plain": [
       "<Figure size 432x288 with 1 Axes>"
      ]
     },
     "metadata": {
      "needs_background": "light"
     },
     "output_type": "display_data"
    },
    {
     "name": "stdout",
     "output_type": "stream",
     "text": [
      "[[0, 1], [6, 2], [2, 3], [3, 4], [4, 5], [0], [1, 6]]\n",
      "[[0, 1], [6, 2], [6, 3], [3, 4], [4, 5], [0], [1, 6], [2, 6]]\n",
      "[[0, 1], [6, 2], [6, 3], [6, 4], [4, 5], [0], [1, 6], [2, 6], [3, 6]]\n",
      "[[0, 1], [6, 2], [6, 3], [6, 4], [6, 5], [0], [1, 6], [2, 6], [3, 6], [4, 6]]\n"
     ]
    },
    {
     "ename": "IndexError",
     "evalue": "index 6 is out of bounds for axis 0 with size 6",
     "output_type": "error",
     "traceback": [
      "\u001b[0;31m---------------------------------------------------------------------------\u001b[0m",
      "\u001b[0;31mIndexError\u001b[0m                                Traceback (most recent call last)",
      "Input \u001b[0;32mIn [794]\u001b[0m, in \u001b[0;36m<module>\u001b[0;34m\u001b[0m\n\u001b[1;32m      9\u001b[0m els_step \u001b[38;5;241m=\u001b[39m n_el\n\u001b[1;32m     11\u001b[0m \u001b[38;5;28;01mfor\u001b[39;00m n \u001b[38;5;129;01min\u001b[39;00m \u001b[38;5;28mrange\u001b[39m(n_steps):\n\u001b[0;32m---> 13\u001b[0m     strain, stress, average_stress \u001b[38;5;241m=\u001b[39m \u001b[43mPostProcess\u001b[49m\u001b[43m(\u001b[49m\u001b[43mu\u001b[49m\u001b[43m)\u001b[49m    \n\u001b[1;32m     14\u001b[0m     \u001b[38;5;66;03m# Get K, M and F\u001b[39;00m\n\u001b[1;32m     15\u001b[0m     K, M, F \u001b[38;5;241m=\u001b[39m GlobalSystem()\n",
      "Input \u001b[0;32mIn [793]\u001b[0m, in \u001b[0;36mPostProcess\u001b[0;34m(u)\u001b[0m\n\u001b[1;32m      9\u001b[0m stress \u001b[38;5;241m=\u001b[39m np\u001b[38;5;241m.\u001b[39mzeros(n_el)\n\u001b[1;32m     11\u001b[0m \u001b[38;5;28;01mfor\u001b[39;00m el \u001b[38;5;129;01min\u001b[39;00m \u001b[38;5;28mrange\u001b[39m(n_el):\n\u001b[1;32m     12\u001b[0m     \u001b[38;5;66;03m# Strain[u,L] returns the strain value at each element 'el' for the step 'n'\u001b[39;00m\n\u001b[0;32m---> 13\u001b[0m     strain[el] \u001b[38;5;241m=\u001b[39m (u[connect[el][\u001b[38;5;241m1\u001b[39m]] \u001b[38;5;241m-\u001b[39m \u001b[43mu\u001b[49m\u001b[43m[\u001b[49m\u001b[43mconnect\u001b[49m\u001b[43m[\u001b[49m\u001b[43mel\u001b[49m\u001b[43m]\u001b[49m\u001b[43m[\u001b[49m\u001b[38;5;241;43m0\u001b[39;49m\u001b[43m]\u001b[49m\u001b[43m]\u001b[49m) \u001b[38;5;241m/\u001b[39m h\n\u001b[1;32m     14\u001b[0m     \u001b[38;5;66;03m# Stress[strain] retuns the stress value at each element 'el' for the step 'n'\u001b[39;00m\n\u001b[1;32m     15\u001b[0m     stress[el] \u001b[38;5;241m=\u001b[39m E \u001b[38;5;241m*\u001b[39m strain[el]\n",
      "\u001b[0;31mIndexError\u001b[0m: index 6 is out of bounds for axis 0 with size 6"
     ]
    }
   ],
   "source": [
    "# Global algorithm\n",
    "\n",
    "u = u0\n",
    "v = v0\n",
    "acel = acel0\n",
    "E_kin = np.zeros((n_steps))\n",
    "E_pot = np.zeros((n_steps))\n",
    "E_tot = np.zeros((n_steps))\n",
    "els_step = n_el\n",
    "\n",
    "for n in range(n_steps):\n",
    "\n",
    "    strain, stress, average_stress = PostProcess(u)    \n",
    "    # Get K, M and F\n",
    "    K, M, F = GlobalSystem()\n",
    "    # print(u)\n",
    "    plot_interior(0,L,n_el,strain,\"x\",\"sigma\",\"stress\")\n",
    "    # u,v,acel returns a vector for u,v and acel at every dof at the n step\n",
    "    u, v, acel = Newmark_exp(K, M, C, u, v, acel, F, dt, gamma)   \n",
    "    E_kin[n],E_pot[n],E_tot[n] = energy(K,M,u,v)\n",
    "    \n",
    "\n",
    "    # Check limit stress\n",
    "    for el in range(n_el-1):\n",
    "        if average_stress[el] > stress_c:\n",
    "            # Fracture happens: creat new interface element\n",
    "            Insert_interface(el, el+1, u, v, acel)\n",
    "            els_step = els_step + 1\n",
    "            print(connect)\n",
    "# # Plots of energy \n",
    "# plot_energy(n_steps,E_kin,E_pot,\"time_step\",\"Energy\",\"Energy balance\")\n",
    "\n",
    "# # Variation of energy\n",
    "# vEkin = np.zeros((n_steps))\n",
    "# vEpot = np.zeros((n_steps))\n",
    "# vEtot = np.zeros((n_steps))\n",
    "\n",
    "# for n in range(n_steps-1):\n",
    "#     vEkin[n+1] = E_kin[n+1] - E_kin[n]\n",
    "#     vEpot[n+1] = E_pot[n+1] - E_pot[n]\n",
    "#     vEtot[n+1] = vEkin[n+1] + vEpot[n+1]\n",
    "# plot_energytotal(n_steps,vEkin,vEpot,vEtot,\"time_step\",\"Energy\",\"Energy balance\")\n"
   ]
  },
  {
   "cell_type": "code",
   "execution_count": null,
   "metadata": {},
   "outputs": [],
   "source": []
  }
 ],
 "metadata": {
  "interpreter": {
   "hash": "97cc609b13305c559618ec78a438abc56230b9381f827f22d070313b9a1f3777"
  },
  "kernelspec": {
   "display_name": "Python 3.10.1 64-bit",
   "language": "python",
   "name": "python3"
  },
  "language_info": {
   "codemirror_mode": {
    "name": "ipython",
    "version": 3
   },
   "file_extension": ".py",
   "mimetype": "text/x-python",
   "name": "python",
   "nbconvert_exporter": "python",
   "pygments_lexer": "ipython3",
   "version": "3.9.10"
  },
  "orig_nbformat": 4
 },
 "nbformat": 4,
 "nbformat_minor": 2
}
