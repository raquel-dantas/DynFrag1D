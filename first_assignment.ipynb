{
 "cells": [
  {
   "cell_type": "code",
   "execution_count": 1,
   "metadata": {},
   "outputs": [],
   "source": [
    "import numpy as np"
   ]
  },
  {
   "cell_type": "code",
   "execution_count": 2,
   "metadata": {},
   "outputs": [],
   "source": [
    "# Global index of local DOF\n",
    "def gl_index(elem_index,local_dof):\n",
    "    return elem_index + local_dof"
   ]
  },
  {
   "cell_type": "code",
   "execution_count": 3,
   "metadata": {},
   "outputs": [],
   "source": [
    "# Boundary conditions\n",
    "def apply_bcs(K_gl,F_gl,dof,value):\n",
    "    phi = 1.0\n",
    "    bignumber = 10.0**15\n",
    "    K_gl[dof,dof] += bignumber*phi*phi\n",
    "    F_gl[dof] += bignumber*float(value)*phi  "
   ]
  },
  {
   "cell_type": "code",
   "execution_count": 4,
   "metadata": {},
   "outputs": [],
   "source": [
    "# Global stiffness matrix and mas matrix\n",
    "def GlobalSystem(E,L,A,n_elem,bc1,bc2):\n",
    "    \n",
    "    # Element stiffness matrix and element load vector\n",
    "    k_elem = E*A/L * np.array([[1.0, -1.0], [-1.0, 1.0]])\n",
    "    f_elem = np.array([0.0, 0.0])\n",
    "\n",
    "    # Global stiffness matrix and load vector\n",
    "    K_gl = np.zeros((n_elem+1, n_elem+1))\n",
    "    F_gl = np.zeros((n_elem+1))\n",
    "    M_gl = np.zeros((n_elem+1, n_elem+1))\n",
    "    # Assembly of elements\n",
    "    for i_el in range(n_elem):\n",
    "        for i_loc in range(2):\n",
    "            i_gl = gl_index(i_el, i_loc)\n",
    "            F_gl[i_gl] += f_elem[i_loc]\n",
    "            for j_loc in range(2):\n",
    "                j_gl = gl_index(i_el, j_loc)\n",
    "                K_gl[i_gl, j_gl] += k_elem[i_loc, j_loc]\n",
    "\n",
    "    # Boundary conditions\n",
    "    apply_bcs(K_gl, F_gl, 0, bc1)\n",
    "    apply_bcs(K_gl, F_gl, n_elem, bc2)\n",
    "\n",
    "    # Approximate solution\n",
    "    # uh = np.linalg.solve(K_gl, F_gl)\n",
    "\n",
    "    return K_gl, M_gl"
   ]
  },
  {
   "cell_type": "code",
   "execution_count": 5,
   "metadata": {},
   "outputs": [],
   "source": [
    "# Input parameters\n",
    "# Material parameters\n",
    "E = 15000.0\n",
    "L = 2.0\n",
    "A = 1.0\n",
    "# Boundary conditions\n",
    "# Velocities\n",
    "bc1 = -5.0\n",
    "bc2 = 5.0\n",
    "# Mesh\n",
    "n_elem = 2"
   ]
  },
  {
   "cell_type": "code",
   "execution_count": 6,
   "metadata": {},
   "outputs": [
    {
     "data": {
      "text/plain": [
       "(array([[ 1.0e+15, -7.5e+03,  0.0e+00],\n",
       "        [-7.5e+03,  1.5e+04, -7.5e+03],\n",
       "        [ 0.0e+00, -7.5e+03,  1.0e+15]]),\n",
       " array([-5.e+15,  0.e+00,  5.e+15]),\n",
       " array([-5.00000000e+00,  4.85063841e-16,  5.00000000e+00]))"
      ]
     },
     "execution_count": 6,
     "metadata": {},
     "output_type": "execute_result"
    }
   ],
   "source": [
    "# Test GetGlobalSystem function\n",
    "GlobalSystem(E,L,A,n_elem,bc1,bc2)"
   ]
  },
  {
   "cell_type": "code",
   "execution_count": 7,
   "metadata": {},
   "outputs": [],
   "source": [
    "# Newmark's method\n",
    "def newmark(K, M, C, u0, v0, acel0, p, n_steps, dt, gamma, beta):\n",
    "    #acel0 = np.matmul(np.linalg.inv(M),(p0 - C*v0 - K*u0))\n",
    "\n",
    "    # Degrees of freedom\n",
    "    dofs = K.shape[0]\n",
    "    # Integration constants\n",
    "    alpha = [\n",
    "        1.0/(beta*dt**2.0),\n",
    "        gamma/(beta*dt),\n",
    "        1.0/(beta*dt),\n",
    "        1.0/(2.0*beta)-1.0,\n",
    "        gamma/beta-1.0,\n",
    "        (gamma/beta-2.0)*dt/2.0,\n",
    "        (1.0-gamma)*dt,\n",
    "        gamma*dt\n",
    "        ]\n",
    "\n",
    "    # Effective stiffness matrix\n",
    "    Keff = K + alpha[0]*M + alpha[1]*C\n",
    "    print(Keff)\n",
    "    # Keff inverse\n",
    "    Kinv = np.linalg.inv(Keff)\n",
    "    print(Kinv)\n",
    "\n",
    "    # Integration\n",
    "    # Vector of effective forces at time p\n",
    "    pef = np.zeros((n_steps+1,dofs))\n",
    "    # Vector of displacements at time u\n",
    "    u = np.zeros((n_steps+1,dofs))\n",
    "    u[0] = u0\n",
    "    # Vector of accelerations  and velocities at time\n",
    "    acel = np.zeros((n_steps+1,dofs))\n",
    "    acel[0] = acel0\n",
    "    v = np.zeros((n_steps+1,dofs))\n",
    "    v[0] = v0\n",
    "    for n in range(n_steps):\n",
    "        # Vector of effective forces p\n",
    "        term1 = alpha[0]*u[n] + alpha[2]*v[n] + alpha[3]*acel[n]\n",
    "        term2 = alpha[1]*u[n] + alpha[4]*v[n] + alpha[5]*acel[n]\n",
    "        pef[n+1] = p[n+1] + np.matmul(M,term1) + np.matmul(C,term2)\n",
    "        # Vector of displacements u\n",
    "        u[n+1] = np.matmul(Kinv,pef[n+1])\n",
    "        # Vector of accelerations acel and velocities v \n",
    "        acel[n+1] = alpha[0]*(u[n+1]-u[n]) - alpha[2]*v[n] - alpha[3]*acel[n]\n",
    "        v[n+1] = v[n] + alpha[6]*acel[n] + alpha[7]*acel[n+1]\n",
    "    print(pef)  \n",
    "    \n",
    "    return u,v,acel"
   ]
  },
  {
   "cell_type": "code",
   "execution_count": 11,
   "metadata": {},
   "outputs": [],
   "source": [
    "# Fragments sizes\n",
    "def frag_size_grady(v,Gc,rho,L,t):\n",
    "    # Strain rate\n",
    "    strain_rate = np.zeros(t)\n",
    "    strain_rate = 2.0*v[[t]]/L\n",
    "    # Fragment size\n",
    "    s = np.zeros(t)\n",
    "    for i in range(t):\n",
    "        s[[i]] = (24*Gc)/(rho*strain_rate[[i]]**2)**(1/3)\n",
    "    return s"
   ]
  },
  {
   "cell_type": "code",
   "execution_count": null,
   "metadata": {},
   "outputs": [],
   "source": [
    "# Strain rate and stress limit\n",
    "strain_rate = np.zeros(n_steps)\n",
    "for i in range(n_steps):\n",
    "    strain_rate = 2.0*v[n_steps]/L"
   ]
  },
  {
   "cell_type": "code",
   "execution_count": 13,
   "metadata": {},
   "outputs": [
    {
     "ename": "SyntaxError",
     "evalue": "expected ':' (1485181841.py, line 4)",
     "output_type": "error",
     "traceback": [
      "\u001b[0;36m  Input \u001b[0;32mIn [13]\u001b[0;36m\u001b[0m\n\u001b[0;31m    for i in range(n_steps)\u001b[0m\n\u001b[0m                           ^\u001b[0m\n\u001b[0;31mSyntaxError\u001b[0m\u001b[0;31m:\u001b[0m expected ':'\n"
     ]
    }
   ],
   "source": [
    "# Fragments sizes by Grady\n",
    "def grady():\n",
    "\n",
    "\n",
    "    return s"
   ]
  },
  {
   "cell_type": "code",
   "execution_count": null,
   "metadata": {},
   "outputs": [],
   "source": [
    "# Global algorithm \n",
    "# Input parameters\n",
    "# Material parameters\n",
    "E = 15000.0\n",
    "L = 2.0\n",
    "A = 1.0\n",
    "Gc = 3000\n",
    "# Boundary conditions\n",
    "# Velocities\n",
    "bc1 = -5.0\n",
    "bc2 = 5.0\n",
    "# Mesh\n",
    "n_elem = 2\n",
    "dofs = n_elem + 1\n",
    "# Time steps\n",
    "n_steps = 10\n",
    "# Initial data\n",
    "u0 = np.array([[0.02,0.02]])\n",
    "v0 = np.array([[0.0,0.0]])\n",
    "acel0 = np.array([[-18.0,0.0]])\n",
    "p = np.zeros((n_steps+1,dofs))\n",
    "# Increment of time\n",
    "dt = 1\n",
    "gamma = 0.5\n",
    "beta = 0 \n",
    "C = np.zeros((dofs,dofs))  \n",
    "\n",
    "# Get K_gl and M_gl\n",
    "K,M = GlobalSystem(E,L,A,n_elem,bc1,bc2)\n",
    "# Get u,v and a\n",
    "u,v,acel = newmark(K,M,C,u0,v0,acel0,p,n_steps,dt,gamma,beta)\n"
   ]
  },
  {
   "cell_type": "markdown",
   "metadata": {},
   "source": [
    "$$\n",
    "f(x) = a + b\\sin (c(x +d)) \n",
    "$$"
   ]
  },
  {
   "cell_type": "markdown",
   "metadata": {},
   "source": [
    "$$\n",
    "f(x) = b\\sin (cx) \n",
    "$$"
   ]
  },
  {
   "cell_type": "markdown",
   "metadata": {},
   "source": [
    "$$\n",
    "f(x) = 5000\\sin (2\\pi x) \n",
    "$$"
   ]
  },
  {
   "cell_type": "markdown",
   "metadata": {},
   "source": []
  }
 ],
 "metadata": {
  "interpreter": {
   "hash": "97cc609b13305c559618ec78a438abc56230b9381f827f22d070313b9a1f3777"
  },
  "kernelspec": {
   "display_name": "Python 3.10.1 64-bit",
   "language": "python",
   "name": "python3"
  },
  "language_info": {
   "codemirror_mode": {
    "name": "ipython",
    "version": 3
   },
   "file_extension": ".py",
   "mimetype": "text/x-python",
   "name": "python",
   "nbconvert_exporter": "python",
   "pygments_lexer": "ipython3",
   "version": "3.10.1"
  },
  "orig_nbformat": 4
 },
 "nbformat": 4,
 "nbformat_minor": 2
}
