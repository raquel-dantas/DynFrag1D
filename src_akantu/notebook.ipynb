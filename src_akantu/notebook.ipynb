{
 "cells": [
  {
   "cell_type": "code",
   "execution_count": 1,
   "metadata": {},
   "outputs": [
    {
     "ename": "ModuleNotFoundError",
     "evalue": "No module named 'akantu'",
     "output_type": "error",
     "traceback": [
      "\u001b[0;31m---------------------------------------------------------------------------\u001b[0m",
      "\u001b[0;31mModuleNotFoundError\u001b[0m                       Traceback (most recent call last)",
      "\u001b[1;32m/home/dantas/projects/dynamicfragmentation1D/akantu/notebook.ipynb Cell 1'\u001b[0m in \u001b[0;36m<cell line: 1>\u001b[0;34m()\u001b[0m\n\u001b[0;32m----> <a href='vscode-notebook-cell:/home/dantas/projects/dynamicfragmentation1D/akantu/notebook.ipynb#ch0000000?line=0'>1</a>\u001b[0m \u001b[39mimport\u001b[39;00m \u001b[39makantu\u001b[39;00m \u001b[39mas\u001b[39;00m \u001b[39maka\u001b[39;00m\n\u001b[1;32m      <a href='vscode-notebook-cell:/home/dantas/projects/dynamicfragmentation1D/akantu/notebook.ipynb#ch0000000?line=1'>2</a>\u001b[0m \u001b[39mimport\u001b[39;00m \u001b[39mnumpy\u001b[39;00m \u001b[39mas\u001b[39;00m \u001b[39mnp\u001b[39;00m\n\u001b[1;32m      <a href='vscode-notebook-cell:/home/dantas/projects/dynamicfragmentation1D/akantu/notebook.ipynb#ch0000000?line=2'>3</a>\u001b[0m \u001b[39mfrom\u001b[39;00m \u001b[39mmatplotlib\u001b[39;00m \u001b[39mimport\u001b[39;00m pyplot \u001b[39mas\u001b[39;00m plt\n",
      "\u001b[0;31mModuleNotFoundError\u001b[0m: No module named 'akantu'"
     ]
    }
   ],
   "source": [
    "import akantu as aka\n",
    "import numpy as np\n",
    "from matplotlib import pyplot as plt\n",
    "\n"
   ]
  },
  {
   "cell_type": "code",
   "execution_count": 2,
   "metadata": {},
   "outputs": [],
   "source": [
    "# Lenght of the bar (m)\n",
    "L = 50*10**-3  \n",
    "# Number of linear elements (n_el)\n",
    "n_el = 2\n",
    "# Lenght of each linear element (h)\n",
    "h = L/n_el\n",
    "# Cross sectional area (m2)\n",
    "A = 1*10**-3 \n",
    "\n",
    "# Applied strain rate (s-1)\n",
    "# strain_rate = 10.0**2\n",
    "# strain_rate = 10.0**3\n",
    "strain_rate = 10.0**4\n",
    "# strain_rate = 10.0**5\n",
    "\n",
    "# Applied velocity\n",
    "vel = strain_rate*L/2 \n",
    "\n",
    "xf = L/2\n",
    "\n",
    "# Limit stress / critical stress (stress_c) (Pa)\n",
    "stress_c = 300.0*10**6 \n",
    "# Young's module (Pa)\n",
    "E = 275.0*10**9  "
   ]
  },
  {
   "cell_type": "code",
   "execution_count": null,
   "metadata": {},
   "outputs": [],
   "source": [
    "# Read material file\n",
    "parseInput('../LOG/material.dat')\n",
    "\n",
    "# Read mesh\n",
    "spatial_dimension = 2\n",
    "mesh = Mesh(spatial_dimension)\n",
    "mesh.read('../LOG/bar.msh')\n",
    "\n",
    "conn = mesh.getConnectivity(aka._triangle_3)\n",
    "last_triangle = conn[n_el-1]\n",
    "first_triangle = conn[0]\n",
    "coords = mesh.getNodes()\n",
    "coordx_last_triangle = np.zeros(3)\n",
    "coordx_last_triangle = [coords[node,0] for node in last_triangle]\n",
    "print(coordx_last_triangle)\n",
    "\n",
    "node_bc_last = [last_triangle[local_node] for local_node, x in enumerate(coordx_last_triangle) if abs(x-xf)<0.0001]\n",
    "print(node_bc_last)\n",
    "\n",
    "# group = mesh.createNodeGroup('group')\n",
    "group = mesh.createNodeGroup(\"XpositiveNode\",False)\n",
    "# group.add()\n",
    "group.add(1)\n"
   ]
  },
  {
   "cell_type": "code",
   "execution_count": 6,
   "metadata": {},
   "outputs": [
    {
     "ename": "NameError",
     "evalue": "name 'aka' is not defined",
     "output_type": "error",
     "traceback": [
      "\u001b[0;31m---------------------------------------------------------------------------\u001b[0m",
      "\u001b[0;31mNameError\u001b[0m                                 Traceback (most recent call last)",
      "\u001b[1;32m/home/dantas/projects/dynamicfragmentation1D/akantu/notebook.ipynb Cell 3'\u001b[0m in \u001b[0;36m<cell line: 2>\u001b[0;34m()\u001b[0m\n\u001b[1;32m      <a href='vscode-notebook-cell:/home/dantas/projects/dynamicfragmentation1D/akantu/notebook.ipynb#ch0000002?line=0'>1</a>\u001b[0m \u001b[39m# Read material file\u001b[39;00m\n\u001b[0;32m----> <a href='vscode-notebook-cell:/home/dantas/projects/dynamicfragmentation1D/akantu/notebook.ipynb#ch0000002?line=1'>2</a>\u001b[0m aka\u001b[39m.\u001b[39mparseInput(\u001b[39m'\u001b[39m\u001b[39m../LOG/material.dat\u001b[39m\u001b[39m'\u001b[39m)\n\u001b[1;32m      <a href='vscode-notebook-cell:/home/dantas/projects/dynamicfragmentation1D/akantu/notebook.ipynb#ch0000002?line=3'>4</a>\u001b[0m \u001b[39m# Read mesh\u001b[39;00m\n\u001b[1;32m      <a href='vscode-notebook-cell:/home/dantas/projects/dynamicfragmentation1D/akantu/notebook.ipynb#ch0000002?line=4'>5</a>\u001b[0m spatial_dimension \u001b[39m=\u001b[39m \u001b[39m2\u001b[39m\n",
      "\u001b[0;31mNameError\u001b[0m: name 'aka' is not defined"
     ]
    }
   ],
   "source": [
    "# Read material file\n",
    "aka.parseInput('../LOG/material.dat')\n",
    "\n",
    "# Read mesh\n",
    "spatial_dimension = 2\n",
    "mesh = aka.Mesh(spatial_dimension)\n",
    "mesh.read('../LOG/bar.msh')\n",
    "\n",
    "conn = mesh.getConnectivity(aka._triangle_3)\n",
    "last_triangle = conn[n_el-1]\n",
    "first_triangle = conn[0]\n",
    "coords = mesh.getNodes()\n",
    "coordx_last_triangle = np.zeros(3)\n",
    "coordx_last_triangle = [coords[node,0] for node in last_triangle]\n",
    "print(coordx_last_triangle)\n",
    "\n",
    "node_bc_last = [last_triangle[local_node] for local_node, x in enumerate(coordx_last_triangle) if abs(x-xf)<0.0001]\n",
    "print(node_bc_last)\n",
    "\n",
    "# group = mesh.createNodeGroup('group')\n",
    "group = mesh.createNodeGroup(\"XpositiveNode\",False)\n",
    "# group.add()\n",
    "group.add(1)\n",
    "\n",
    "\n"
   ]
  },
  {
   "cell_type": "code",
   "execution_count": null,
   "metadata": {},
   "outputs": [],
   "source": []
  }
 ],
 "metadata": {
  "kernelspec": {
   "display_name": "Python 3.9.10 ('.venv': venv)",
   "language": "python",
   "name": "python3"
  },
  "language_info": {
   "codemirror_mode": {
    "name": "ipython",
    "version": 3
   },
   "file_extension": ".py",
   "mimetype": "text/x-python",
   "name": "python",
   "nbconvert_exporter": "python",
   "pygments_lexer": "ipython3",
   "version": "3.9.10"
  },
  "orig_nbformat": 4,
  "vscode": {
   "interpreter": {
    "hash": "96322fb90f778c96c5cf66a01d55c5b014c3917a81585898cdf4c22edf0f95c9"
   }
  }
 },
 "nbformat": 4,
 "nbformat_minor": 2
}
