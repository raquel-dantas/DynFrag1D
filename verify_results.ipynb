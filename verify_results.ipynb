{
 "cells": [
  {
   "cell_type": "code",
   "execution_count": null,
   "metadata": {},
   "outputs": [],
   "source": [
    "import numpy as np\n",
    "from DFReadResults import *"
   ]
  },
  {
   "cell_type": "code",
   "execution_count": null,
   "metadata": {},
   "outputs": [],
   "source": [
    "filepath = \"output/\"\n",
    "file_address = filepath + \"akantu_\"\n",
    "time_data = readResultsVariable(file_address, \"time_data\")\n",
    "\n",
    "time_simulation = time_data[0]\n",
    "dt = time_data[1]\n",
    "n_steps = int(time_simulation/ dt)\n",
    "\n",
    "n_files = int(n_steps / 10 + 1)\n",
    "n_fragments = np.zeros(n_files)\n",
    "avg_stress_bar = np.zeros(n_files)\n",
    "energies = []\n",
    "sfrag = []\n",
    "i = 0\n",
    "for n in range(n_steps):\n",
    "    if n%10 ==0:\n",
    "        results = readPreviousResults(file_address + \"step_\" + str(n) +\"_.pickle\")\n",
    "        n_fragments[i] = getResults(results, \"n_fragments\")\n",
    "        avg_stress_bar[i] = getResults(results, \"avg_stress_bar\")\n",
    "        energies.append(getResults(results, \"energies\"))\n",
    "        sfrag.append(getResults(results, \"frag_lengths\"))\n",
    "        i += 1\n",
    "\n",
    "time = np.linspace(0, time_simulation, n_files)\n",
    "stress_bar = []\n",
    "n_frag = []\n",
    "stress_bar.append([\"CZM 1250 elements\", time, avg_stress_bar/10**6])\n",
    "n_frag.append([\"CZM 1250 elements\", time, n_fragments])\n"
   ]
  },
  {
   "cell_type": "code",
   "execution_count": null,
   "metadata": {},
   "outputs": [],
   "source": [
    "plotResults(\n",
    "    stress_bar,\n",
    "    label_x=\"time (s)\",\n",
    "    label_y=\"Average stress at the bar (MPa)\",\n",
    ")\n",
    "plotResults(\n",
    "    n_frag,\n",
    "    label_x=\"time (s)\",\n",
    "    label_y=\"N\",\n",
    ")\n",
    "\n",
    "var_energies = computeVarEnergiesCZM(\n",
    "    energies, n_files, 1250)\n",
    "plotVarEnergiesCZM(\n",
    "    var_energies,\n",
    "    time,\n",
    "    title=\"CZM: Variation of energy\"\n",
    ")\n",
    "\n",
    "plotFragmentSizeHistogram(sfrag[n_files -1])"
   ]
  },
  {
   "cell_type": "code",
   "execution_count": null,
   "metadata": {},
   "outputs": [],
   "source": []
  }
 ],
 "metadata": {
  "kernelspec": {
   "display_name": ".venv",
   "language": "python",
   "name": "python3"
  },
  "language_info": {
   "codemirror_mode": {
    "name": "ipython",
    "version": 3
   },
   "file_extension": ".py",
   "mimetype": "text/x-python",
   "name": "python",
   "nbconvert_exporter": "python",
   "pygments_lexer": "ipython3",
   "version": "3.10.9"
  },
  "orig_nbformat": 4,
  "vscode": {
   "interpreter": {
    "hash": "96322fb90f778c96c5cf66a01d55c5b014c3917a81585898cdf4c22edf0f95c9"
   }
  }
 },
 "nbformat": 4,
 "nbformat_minor": 2
}
