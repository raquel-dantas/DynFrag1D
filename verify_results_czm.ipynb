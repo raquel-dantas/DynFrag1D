{
 "cells": [
  {
   "cell_type": "code",
   "execution_count": null,
   "metadata": {},
   "outputs": [],
   "source": [
    "import numpy as np\n",
    "\n",
    "import DFProcessResults\n",
    "import DFPlotResults"
   ]
  },
  {
   "cell_type": "code",
   "execution_count": null,
   "metadata": {},
   "outputs": [],
   "source": [
    "#  Path to the output files\n",
    "filepath = \"output/\"\n",
    "bar_length = 50e-3"
   ]
  },
  {
   "cell_type": "code",
   "execution_count": null,
   "metadata": {},
   "outputs": [],
   "source": [
    "# Simulation 1: CZM Uniform mesh\n",
    "simulation_name = \"Uniform mesh\"\n",
    "n_elements = 10000\n",
    "h = bar_length / n_elements\n",
    "file_address = filepath + \"akantu_\"\n",
    "time_data = DFProcessResults.getTimeData(file_address)\n",
    "time_simulation = time_data[0]\n",
    "dt = time_data[1]\n",
    "n_steps = time_data[2]\n",
    "n_files = int(n_steps / 10 + 1)\n",
    "avg_stress_bar, energies, n_fragments = DFProcessResults.getResultsAllStepsCZM(file_address, n_files, n_steps)\n",
    "energy_diss = DFProcessResults.getDissipatedEnergy(energies, n_files) * 1e-3 / h  # from J to KJ\n",
    "var_energies = DFProcessResults.computeVarEnergiesCZM(energies, n_files, n_elements)\n",
    "time = np.linspace(0, time_simulation, n_files)\n",
    "\n",
    "\n",
    "avg_stress_simulation1 = [simulation_name, time, avg_stress_bar]\n",
    "n_fragments_simulation1 = [simulation_name, time, n_fragments]\n",
    "energy_diss_simulation1 = [simulation_name, n_elements, energy_diss]"
   ]
  },
  {
   "cell_type": "code",
   "execution_count": null,
   "metadata": {},
   "outputs": [],
   "source": [
    "DFPlotResults.plotResults(\n",
    "    avg_stress_bar * 1e-6, # From Pa to MPa\n",
    "    time,\n",
    "    label_x=\"time (s)\",\n",
    "    label_y=\"Average stress at the bar (MPa)\",\n",
    "    plot_title=\"Average stress at the bar\",\n",
    "    save_plot=False,\n",
    "    save_filename=\"filename\"\n",
    ")\n",
    "DFPlotResults.plotResults(\n",
    "    n_fragments,\n",
    "    time,\n",
    "    label_x=\"time (s)\",\n",
    "    label_y=\"N\",\n",
    "    plot_title=\"Number of fragments\",\n",
    "    save_plot=False,\n",
    "    save_filename=\"filename\"\n",
    ")\n",
    "\n",
    "DFPlotResults.plotVarEnergiesCZM(\n",
    "    var_energies,\n",
    "    time,\n",
    "    plot_title=\"Variation of energy\",\n",
    "    save_plot=False,\n",
    "    save_filename=\"filename\"\n",
    ")"
   ]
  },
  {
   "cell_type": "code",
   "execution_count": null,
   "metadata": {},
   "outputs": [],
   "source": [
    "# Simulation 2: CZM Non-Uniform mesh\n",
    "simulation_name = \"Non-Uniform mesh\"\n",
    "n_elements = 10000\n",
    "h = bar_length / n_elements\n",
    "file_address = filepath + \"akantu_\"\n",
    "time_data = DFProcessResults.getTimeData(file_address)\n",
    "time_simulation = time_data[0]\n",
    "dt = time_data[1]\n",
    "n_steps = time_data[2]\n",
    "n_files = int(n_steps / 10 + 1)\n",
    "avg_stress_bar, energies, n_fragments = DFProcessResults.getResultsAllStepsCZM(file_address, n_files, n_steps)\n",
    "energy_diss = DFProcessResults.getDissipatedEnergy(energies, n_files) * 1e-3 / h  # from J to KJ\n",
    "var_energies = DFProcessResults.computeVarEnergiesCZM(energies, n_files, n_elements)\n",
    "time = np.linspace(0, time_simulation, n_files)\n",
    "\n",
    "\n",
    "avg_stress_simulation2 = [simulation_name, time, avg_stress_bar]\n",
    "n_fragments_simulation2 = [simulation_name, time, n_fragments]\n",
    "energy_diss_simulation2 = [simulation_name, n_elements, energy_diss]"
   ]
  },
  {
   "cell_type": "code",
   "execution_count": null,
   "metadata": {},
   "outputs": [],
   "source": [
    "# To compare simulations\n",
    "# Initialize what you want to compare:\n",
    "\n",
    "avg_stress_comparison = []\n",
    "n_fragments_comparison  = []\n",
    "energy_diss_comparison = []\n",
    "\n",
    "# Add all the simulations you want to compare\n",
    "\n",
    "avg_stress_comparison.append(avg_stress_simulation1)\n",
    "avg_stress_comparison.append(avg_stress_simulation2)\n",
    "\n",
    "n_fragments_comparison.append(n_fragments_simulation1)\n",
    "n_fragments_comparison.append(n_fragments_simulation2)\n",
    "\n",
    "energy_diss_comparison.append(energy_diss_simulation1)\n",
    "energy_diss_comparison.append(energy_diss_simulation2)"
   ]
  },
  {
   "cell_type": "code",
   "execution_count": null,
   "metadata": {},
   "outputs": [],
   "source": [
    "DFPlotResults.plotResultsComparison(\n",
    "    avg_stress_comparison,\n",
    "    label_x=\"time (s)\",\n",
    "    label_y=\"Average stress at the bar (MPa)\",\n",
    "    plot_title=\"Average stress at the bar\",\n",
    "    save_plot=False,\n",
    "    save_filename=\"filename\"\n",
    ")\n",
    "DFPlotResults.plotResultsComparison(\n",
    "    n_fragments_comparison,\n",
    "    label_x=\"time (s)\",\n",
    "    label_y=\"N\",\n",
    "    plot_title=\"Number of fragments\",\n",
    "    save_plot=False,\n",
    "    save_filename=\"filename\"\n",
    ")"
   ]
  },
  {
   "cell_type": "code",
   "execution_count": null,
   "metadata": {},
   "outputs": [],
   "source": [
    "# For convergence plots\n",
    "meshes = []\n",
    "\n",
    "DFPlotResults.plotConvergence(\n",
    "    energy_diss_comparison,\n",
    "    meshes,\n",
    "    label_x=\"Number of elements\",\n",
    "    label_y=\"Dissipated Energy ($ J/ {m^2} $)\",\n",
    "    plot_title=\"Dissipated energy\",\n",
    "    save_plot=False,\n",
    "    save_filename=\"filename\"\n",
    ")\n",
    "\n",
    "DFPlotResults.plotConvergence(\n",
    "    n_fragments_comparison,\n",
    "    meshes,\n",
    "    label_x=\"Number of elements\",\n",
    "    label_y=\"N\",\n",
    "    plot_title=\"Number of fragments\",\n",
    "    save_plot=False,\n",
    "    save_filename=\"filename\"\n",
    ")"
   ]
  }
 ],
 "metadata": {
  "kernelspec": {
   "display_name": ".venv",
   "language": "python",
   "name": "python3"
  },
  "language_info": {
   "codemirror_mode": {
    "name": "ipython",
    "version": 3
   },
   "file_extension": ".py",
   "mimetype": "text/x-python",
   "name": "python",
   "nbconvert_exporter": "python",
   "pygments_lexer": "ipython3",
   "version": "3.10.9"
  },
  "orig_nbformat": 4,
  "vscode": {
   "interpreter": {
    "hash": "96322fb90f778c96c5cf66a01d55c5b014c3917a81585898cdf4c22edf0f95c9"
   }
  }
 },
 "nbformat": 4,
 "nbformat_minor": 2
}
