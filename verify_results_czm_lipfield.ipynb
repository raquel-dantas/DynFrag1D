{
 "cells": [
  {
   "cell_type": "code",
   "execution_count": 1,
   "metadata": {},
   "outputs": [],
   "source": [
    "import numpy as np\n",
    "\n",
    "import DFProcessResults\n",
    "import DFPlotResults"
   ]
  },
  {
   "cell_type": "code",
   "execution_count": 2,
   "metadata": {},
   "outputs": [],
   "source": [
    "#  Path to the output files\n",
    "filepath = \"output/\"\n",
    "bar_length = 50e-3"
   ]
  },
  {
   "cell_type": "code",
   "execution_count": 3,
   "metadata": {},
   "outputs": [],
   "source": [
    "# Simulation 1: CZM Uniform mesh\n",
    "simulation_name = \"Uniform mesh\"\n",
    "n_elements = 10000\n",
    "h = bar_length / n_elements\n",
    "file_address = filepath + \"akantu_\"\n",
    "time_data = DFProcessResults.getTimeData(file_address)\n",
    "time_simulation = time_data[0]\n",
    "dt = time_data[1]\n",
    "n_steps = time_data[2]\n",
    "n_files = int(n_steps / 10 + 1)\n",
    "avg_stress_bar, energies, n_fragments = DFProcessResults.getResultsAllStepsCZM(file_address, n_files, n_steps)\n",
    "energy_diss = DFProcessResults.getDissipatedEnergy(energies, n_files) * 1e-3 / h  # from J to KJ\n",
    "var_energies = DFProcessResults.computeVarEnergiesCZM(energies, n_files, n_elements)\n",
    "time = np.linspace(0, time_simulation, n_files)\n",
    "\n",
    "\n",
    "avg_stress_simulation1_czm = [simulation_name, time, avg_stress_bar]\n",
    "n_fragments_simulation1_czm = [simulation_name, time, n_fragments]\n",
    "energy_diss_simulation1_czm = [simulation_name, n_elements, energy_diss]\n",
    "time_simulation1_czm = time"
   ]
  },
  {
   "cell_type": "code",
   "execution_count": 4,
   "metadata": {},
   "outputs": [],
   "source": [
    "# Simulation 2: CZM Non-Uniform mesh\n",
    "simulation_name = \"Non-Uniform mesh\"\n",
    "n_elements = 10000\n",
    "h = bar_length / n_elements\n",
    "file_address = filepath + \"akantu_\"\n",
    "time_data = DFProcessResults.getTimeData(file_address)\n",
    "time_simulation = time_data[0]\n",
    "dt = time_data[1]\n",
    "n_steps = time_data[2]\n",
    "n_files = int(n_steps / 10 + 1)\n",
    "avg_stress_bar, energies, n_fragments = DFProcessResults.getResultsAllStepsCZM(file_address, n_files, n_steps)\n",
    "energy_diss = DFProcessResults.getDissipatedEnergy(energies, n_files) * 1e-3 / h  # from J to KJ\n",
    "var_energies = DFProcessResults.computeVarEnergiesCZM(energies, n_files, n_elements)\n",
    "time = np.linspace(0, time_simulation, n_files)\n",
    "\n",
    "\n",
    "avg_stress_simulation2_czm = [simulation_name, time, avg_stress_bar]\n",
    "n_fragments_simulation2_czm = [simulation_name, time, n_fragments]\n",
    "energy_diss_simulation2_czm = [simulation_name, n_elements, energy_diss]\n",
    "time_simulation2_czm = time"
   ]
  },
  {
   "cell_type": "code",
   "execution_count": 5,
   "metadata": {},
   "outputs": [],
   "source": [
    "# Simulation 1: Lipfield Uniform mesh\n",
    "simulation_name = \"Uniform mesh\"\n",
    "n_elements = 10000\n",
    "file_address = filepath + \"lipfield_\"\n",
    "time_data = DFProcessResults.getTimeData(file_address)\n",
    "time_simulation = time_data[0]\n",
    "dt = time_data[1]\n",
    "n_steps = time_data[2]\n",
    "n_files = int(n_steps / 10 + 1)\n",
    "avg_stress_bar, energies, n_fragments = DFProcessResults.getResultsAllSteps(file_address, n_files, n_steps)\n",
    "energy_diss = DFProcessResults.getDissipatedEnergy(energies, n_files) * 1e-3  # from J to KJ\n",
    "var_energies = DFProcessResults.computeVarEnergiesLipfield(energies, n_files)\n",
    "time = np.linspace(0, time_simulation, n_files)\n",
    "\n",
    "\n",
    "avg_stress_simulation1_lipfield  = [simulation_name, time, avg_stress_bar]\n",
    "n_fragments_simulation1_lipfield  = [simulation_name, time, n_fragments]\n",
    "energy_diss_simulation1_lipfield  = [simulation_name, n_elements, energy_diss]\n",
    "time_simulation1_lipfield = time"
   ]
  },
  {
   "cell_type": "code",
   "execution_count": 6,
   "metadata": {},
   "outputs": [],
   "source": [
    "# Simulation 2: Lipfield Non-Uniform mesh\n",
    "simulation_name = \"Non-Uniform mesh\"\n",
    "n_elements = 10000\n",
    "file_address = filepath + \"lipfield_\"\n",
    "time_data = DFProcessResults.getTimeData(file_address)\n",
    "time_simulation = time_data[0]\n",
    "dt = time_data[1]\n",
    "n_steps = time_data[2]\n",
    "n_files = int(n_steps / 10 + 1)\n",
    "avg_stress_bar, energies, n_fragments = DFProcessResults.getResultsAllSteps(file_address, n_files, n_steps)\n",
    "energy_diss = DFProcessResults.getDissipatedEnergy(energies, n_files) * 1e-3  # from J to KJ\n",
    "var_energies = DFProcessResults.computeVarEnergiesLipfield(energies, n_files)\n",
    "time = np.linspace(0, time_simulation, n_files)\n",
    "\n",
    "\n",
    "avg_stress_simulation2_lipfield  = [simulation_name, time, avg_stress_bar]\n",
    "n_fragments_simulation2_lipfield  = [simulation_name, time, n_fragments]\n",
    "energy_diss_simulation2_lipfield  = [simulation_name, n_elements, energy_diss]\n",
    "time_simulation2_lipfield = time"
   ]
  },
  {
   "cell_type": "code",
   "execution_count": null,
   "metadata": {},
   "outputs": [],
   "source": [
    "# To compare simulations\n",
    "# Initialize what you want to compare:\n",
    "\n",
    "\n",
    "\n",
    "stress_bar = [\n",
    "    [\"LIP: Uniform\", time_simulation1_lipfield, avg_stress_simulation1_lipfield[2]],\n",
    "    [\"LIP: Non-Uniform\", time_simulation2_lipfield, avg_stress_simulation2_lipfield[2]],\n",
    "    [\"CZM: Uniform\", time_simulation1_czm, avg_stress_simulation1_czm[2]],\n",
    "    [\"CZM: Non-Uniform\", time_simulation1_czm, avg_stress_simulation1_czm[2]],\n",
    "]\n",
    "\n",
    "\n",
    "DFPlotResults.plotCompareCZMLIP(\n",
    "    stress_bar,\n",
    "    title=\"Average stress\",\n",
    "    label_x=\"time (s)\",\n",
    "    label_y=\"Average stress at the bar (Pa)\",\n",
    "    save_plot=False,\n",
    "    save_filename=\"filename\",\n",
    ")\n",
    "\n",
    "nfrag = [\n",
    "    [\"LIP: Uniform\", time_simulation1_lipfield, n_fragments_simulation1_lipfield[2]],\n",
    "    [\"LIP: Non-Uniform\", time_simulation2_lipfield, n_fragments_simulation2_lipfield[2]],\n",
    "    [\"CZM: Uniform\", time_simulation1_czm, n_fragments_simulation1_czm[2]],\n",
    "    [\"CZM: Non-Uniform\", time_simulation1_czm, n_fragments_simulation1_czm[2]],\n",
    "]\n",
    "\n",
    "\n",
    "DFPlotResults.plotCompareCZMLIP(\n",
    "    nfrag,\n",
    "    title=\"Number of fragments\",\n",
    "    label_x=\"time (s)\",\n",
    "    label_y=\"Number of fragments\",\n",
    "    save_plot=False,\n",
    "    save_filename=\"filename\",\n",
    ")\n",
    "\n"
   ]
  }
 ],
 "metadata": {
  "kernelspec": {
   "display_name": ".venv",
   "language": "python",
   "name": "python3"
  },
  "language_info": {
   "codemirror_mode": {
    "name": "ipython",
    "version": 3
   },
   "file_extension": ".py",
   "mimetype": "text/x-python",
   "name": "python",
   "nbconvert_exporter": "python",
   "pygments_lexer": "ipython3",
   "version": "3.10.9"
  },
  "orig_nbformat": 4,
  "vscode": {
   "interpreter": {
    "hash": "96322fb90f778c96c5cf66a01d55c5b014c3917a81585898cdf4c22edf0f95c9"
   }
  }
 },
 "nbformat": 4,
 "nbformat_minor": 2
}
